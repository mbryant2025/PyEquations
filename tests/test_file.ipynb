{
 "cells": [
  {
   "cell_type": "code",
   "execution_count": 35,
   "metadata": {
    "collapsed": true,
    "ExecuteTime": {
     "end_time": "2023-06-10T19:33:47.958326Z",
     "start_time": "2023-06-10T19:33:47.535031Z"
    }
   },
   "outputs": [],
   "source": [
    "from pyequations.inheritables import PyEquations\n",
    "from pyequations.decorators import eq, func\n",
    "from sympy.physics.units import meter, second\n",
    "\n",
    "class Kinematic(PyEquations):\n",
    "\n",
    "    def __init__(self):\n",
    "        super().__init__({\n",
    "            'x_0': 'Initial position',\n",
    "            'x_f': 'Final position',\n",
    "            'v_0': 'Initial velocity',\n",
    "            'v_f': 'Final velocity',\n",
    "            'a': 'Acceleration',\n",
    "            't': 'Time'\n",
    "        })\n",
    "\n",
    "    @eq\n",
    "    def calc_v_f(self):\n",
    "        return self.v_f, self.v_0 + self.a * self.t\n",
    "\n",
    "    @eq\n",
    "    def calc_x_f(self):\n",
    "        return self.x_f, self.x_0 + self.v_0 * self.t + 0.5 * self.a * self.t ** 2\n",
    "\n",
    "    @eq\n",
    "    def calc_v_f_2(self):\n",
    "        return self.v_f ** 2, self.v_0 ** 2 + 2 * self.a * (self.x_f - self.x_0)\n",
    "\n",
    "    @eq\n",
    "    def calc_x_f_2(self):\n",
    "        return self.x_f, self.x_0 + 0.5 * (self.v_0 + self.v_f) * self.t\n",
    "\n",
    "    @func\n",
    "    def parse(self):\n",
    "        if self.t < 0:\n",
    "            self.del_branch()\n",
    "\n",
    "# Identical equations as before, just with arbitrary parse function\n",
    "# Would be better applied with negative time, but this matches previous test\n",
    "k = Kinematic()\n",
    "\n",
    "k.x_0 = 100 * meter\n",
    "k.v_0 = 3 * meter / second\n",
    "k.a = -9.8 * meter / second ** 2\n",
    "k.x_f = 0 * meter\n",
    "\n",
    "k.solve()"
   ]
  },
  {
   "cell_type": "code",
   "execution_count": 36,
   "outputs": [
    {
     "name": "stdout",
     "output_type": "stream",
     "text": [
      "[{'x_0': 100*meter, 'x_f': 0, 'v_0': 3*meter/second, 'v_f': -44.3734154646676*meter/second, 'a': -9.8*meter/second**2, 't': 4.83402198619057*second}]\n"
     ]
    }
   ],
   "source": [
    "print(k.vars)"
   ],
   "metadata": {
    "collapsed": false,
    "ExecuteTime": {
     "end_time": "2023-06-10T19:33:47.961559Z",
     "start_time": "2023-06-10T19:33:47.959877Z"
    }
   }
  },
  {
   "cell_type": "code",
   "execution_count": 37,
   "outputs": [
    {
     "name": "stdout",
     "output_type": "stream",
     "text": [
      "[4.83402198619057*second]\n",
      "[-44.3734154646676*meter/second]\n",
      "4.83402198619057*second\n",
      "-44.3734154646676*meter/second\n"
     ]
    }
   ],
   "source": [
    "print(k.get_var_vals('t'))\n",
    "print(k.get_var_vals('v_f'))\n",
    "\n",
    "print(k.t)\n",
    "print(k.v_f)"
   ],
   "metadata": {
    "collapsed": false,
    "ExecuteTime": {
     "end_time": "2023-06-10T19:33:47.964162Z",
     "start_time": "2023-06-10T19:33:47.962553Z"
    }
   }
  },
  {
   "cell_type": "code",
   "execution_count": 38,
   "outputs": [
    {
     "name": "stdout",
     "output_type": "stream",
     "text": [
      "[{'x': -0.680551540264324 - 1.63317024091524*I}, {'x': -0.680551540264324 + 1.63317024091524*I}, {'x': -0.638896919471353}]\n"
     ]
    }
   ],
   "source": [
    "    class Parallel(PyEquations):\n",
    "\n",
    "        def __init__(self):\n",
    "            super().__init__([\n",
    "                'x'\n",
    "            ])\n",
    "\n",
    "        @eq\n",
    "        def eq1(self):\n",
    "            return self.x **3 + 2 * self.x ** 2 + 4 * self.x + 2, 0\n",
    "\n",
    "    # Parallel lines have no intersection and therefore no solution\n",
    "    # Should raise runtime error\n",
    "    parallel = Parallel()\n",
    "\n",
    "    parallel.solve()\n",
    "\n",
    "    print(parallel.vars_decimal)"
   ],
   "metadata": {
    "collapsed": false,
    "ExecuteTime": {
     "end_time": "2023-06-10T19:33:48.396608Z",
     "start_time": "2023-06-10T19:33:48.008857Z"
    }
   }
  }
 ],
 "metadata": {
  "kernelspec": {
   "display_name": "Python 3",
   "language": "python",
   "name": "python3"
  },
  "language_info": {
   "codemirror_mode": {
    "name": "ipython",
    "version": 2
   },
   "file_extension": ".py",
   "mimetype": "text/x-python",
   "name": "python",
   "nbconvert_exporter": "python",
   "pygments_lexer": "ipython2",
   "version": "2.7.6"
  }
 },
 "nbformat": 4,
 "nbformat_minor": 0
}
